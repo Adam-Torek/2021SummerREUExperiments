{
 "cells": [
  {
   "cell_type": "code",
   "execution_count": 1,
   "id": "0b928a79-3af2-424c-8f51-6e5a3ffb08a9",
   "metadata": {},
   "outputs": [],
   "source": [
    "import pandas as pd"
   ]
  },
  {
   "cell_type": "code",
   "execution_count": 2,
   "id": "01eb3de1-1395-401c-90cf-2975d93a4d4e",
   "metadata": {},
   "outputs": [],
   "source": [
    "transactions = pd.read_csv(\"transactions.csv\")"
   ]
  },
  {
   "cell_type": "code",
   "execution_count": 10,
   "id": "d32ab654-5554-40b5-b3d1-0d62fb02e34e",
   "metadata": {},
   "outputs": [],
   "source": [
    "sample = transactions.sample(frac=0.05,replace=False)"
   ]
  },
  {
   "cell_type": "code",
   "execution_count": 13,
   "id": "ffe8c2fb-8dac-415a-9cb7-7af778747b41",
   "metadata": {},
   "outputs": [],
   "source": [
    "sample.to_csv('transactions2.csv',index=False)"
   ]
  },
  {
   "cell_type": "code",
   "execution_count": null,
   "id": "d1f5ecf8-46f0-403e-9c07-ee7139dfdad4",
   "metadata": {},
   "outputs": [],
   "source": []
  }
 ],
 "metadata": {
  "kernelspec": {
   "display_name": "Python 3 (ipykernel)",
   "language": "python",
   "name": "python3"
  },
  "language_info": {
   "codemirror_mode": {
    "name": "ipython",
    "version": 3
   },
   "file_extension": ".py",
   "mimetype": "text/x-python",
   "name": "python",
   "nbconvert_exporter": "python",
   "pygments_lexer": "ipython3",
   "version": "3.9.5"
  }
 },
 "nbformat": 4,
 "nbformat_minor": 5
}
